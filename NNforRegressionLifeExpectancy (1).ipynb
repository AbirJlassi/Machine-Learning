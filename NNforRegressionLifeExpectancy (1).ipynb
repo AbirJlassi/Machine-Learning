{
  "nbformat": 4,
  "nbformat_minor": 0,
  "metadata": {
    "colab": {
      "provenance": []
    },
    "kernelspec": {
      "name": "python3",
      "display_name": "Python 3"
    },
    "language_info": {
      "name": "python"
    }
  },
  "cells": [
    {
      "cell_type": "markdown",
      "source": [
        "### Importation des bibliothèques"
      ],
      "metadata": {
        "id": "rjGC38Bx2Qa4"
      }
    },
    {
      "cell_type": "code",
      "source": [
        "pip install scikeras\n"
      ],
      "metadata": {
        "colab": {
          "base_uri": "https://localhost:8080/"
        },
        "id": "gxtvhEn5JPPz",
        "outputId": "7c6d5335-515d-47aa-a5f2-3e4b417d65c5"
      },
      "execution_count": 19,
      "outputs": [
        {
          "output_type": "stream",
          "name": "stdout",
          "text": [
            "Collecting scikeras\n",
            "  Downloading scikeras-0.13.0-py3-none-any.whl.metadata (3.1 kB)\n",
            "Requirement already satisfied: keras>=3.2.0 in /usr/local/lib/python3.10/dist-packages (from scikeras) (3.5.0)\n",
            "Requirement already satisfied: scikit-learn>=1.4.2 in /usr/local/lib/python3.10/dist-packages (from scikeras) (1.5.2)\n",
            "Requirement already satisfied: absl-py in /usr/local/lib/python3.10/dist-packages (from keras>=3.2.0->scikeras) (1.4.0)\n",
            "Requirement already satisfied: numpy in /usr/local/lib/python3.10/dist-packages (from keras>=3.2.0->scikeras) (1.26.4)\n",
            "Requirement already satisfied: rich in /usr/local/lib/python3.10/dist-packages (from keras>=3.2.0->scikeras) (13.9.4)\n",
            "Requirement already satisfied: namex in /usr/local/lib/python3.10/dist-packages (from keras>=3.2.0->scikeras) (0.0.8)\n",
            "Requirement already satisfied: h5py in /usr/local/lib/python3.10/dist-packages (from keras>=3.2.0->scikeras) (3.12.1)\n",
            "Requirement already satisfied: optree in /usr/local/lib/python3.10/dist-packages (from keras>=3.2.0->scikeras) (0.13.1)\n",
            "Requirement already satisfied: ml-dtypes in /usr/local/lib/python3.10/dist-packages (from keras>=3.2.0->scikeras) (0.4.1)\n",
            "Requirement already satisfied: packaging in /usr/local/lib/python3.10/dist-packages (from keras>=3.2.0->scikeras) (24.2)\n",
            "Requirement already satisfied: scipy>=1.6.0 in /usr/local/lib/python3.10/dist-packages (from scikit-learn>=1.4.2->scikeras) (1.13.1)\n",
            "Requirement already satisfied: joblib>=1.2.0 in /usr/local/lib/python3.10/dist-packages (from scikit-learn>=1.4.2->scikeras) (1.4.2)\n",
            "Requirement already satisfied: threadpoolctl>=3.1.0 in /usr/local/lib/python3.10/dist-packages (from scikit-learn>=1.4.2->scikeras) (3.5.0)\n",
            "Requirement already satisfied: typing-extensions>=4.5.0 in /usr/local/lib/python3.10/dist-packages (from optree->keras>=3.2.0->scikeras) (4.12.2)\n",
            "Requirement already satisfied: markdown-it-py>=2.2.0 in /usr/local/lib/python3.10/dist-packages (from rich->keras>=3.2.0->scikeras) (3.0.0)\n",
            "Requirement already satisfied: pygments<3.0.0,>=2.13.0 in /usr/local/lib/python3.10/dist-packages (from rich->keras>=3.2.0->scikeras) (2.18.0)\n",
            "Requirement already satisfied: mdurl~=0.1 in /usr/local/lib/python3.10/dist-packages (from markdown-it-py>=2.2.0->rich->keras>=3.2.0->scikeras) (0.1.2)\n",
            "Downloading scikeras-0.13.0-py3-none-any.whl (26 kB)\n",
            "Installing collected packages: scikeras\n",
            "Successfully installed scikeras-0.13.0\n"
          ]
        }
      ]
    },
    {
      "cell_type": "code",
      "execution_count": 2,
      "metadata": {
        "id": "8S9W06oPIhTd"
      },
      "outputs": [],
      "source": [
        "import pandas as pd\n",
        "import numpy as np\n",
        "import seaborn as sns\n",
        "import matplotlib.pyplot as plt\n",
        "from sklearn.model_selection import train_test_split\n",
        "from sklearn.preprocessing import StandardScaler, OneHotEncoder\n",
        "from sklearn.impute import SimpleImputer\n",
        "from sklearn.metrics import mean_squared_error\n",
        "from sklearn.metrics import confusion_matrix, accuracy_score, precision_score, recall_score, f1_score\n",
        "import tensorflow as tf\n",
        "from tensorflow.keras import Sequential\n",
        "from tensorflow.keras.layers import Conv1D, Flatten, Dense, MaxPooling1D, Dropout\n",
        "from scikeras.wrappers import KerasRegressor\n",
        "from sklearn.model_selection import RandomizedSearchCV\n",
        "\n"
      ]
    },
    {
      "cell_type": "markdown",
      "source": [
        "### Chargement des données\n",
        "\n",
        "Dataset: **Life expectancy**\n",
        "\n",
        "Le dataset contient des données sur l'espérance de vie et des facteurs associés pour 193 pays entre 2000 et 2015, combinant des informations provenant de l'OMS (Observatoire mondial de la santé) et des données économiques issues de l'ONU.\n",
        "\n",
        "On va essayer de prédire la variable \"Life expectancy\" en fonction des autres\n",
        "facteurs (économiques, sociaux, vaccination, consommation..)\n"
      ],
      "metadata": {
        "id": "87mRJbVn4lrC"
      }
    },
    {
      "cell_type": "code",
      "source": [
        "# Charger le CSV\n",
        "data = pd.read_csv(\"LifeExpectancy.csv\")"
      ],
      "metadata": {
        "id": "3pvzQl4cIiKn"
      },
      "execution_count": 4,
      "outputs": []
    },
    {
      "cell_type": "code",
      "source": [
        "data.head()"
      ],
      "metadata": {
        "colab": {
          "base_uri": "https://localhost:8080/",
          "height": 307
        },
        "id": "0uvLYWZNIiM0",
        "outputId": "bb7e33f3-a041-45f0-9d6e-81a5bc8f3f0b"
      },
      "execution_count": 5,
      "outputs": [
        {
          "output_type": "execute_result",
          "data": {
            "text/plain": [
              "       Country  Year      Status  Life expectancy   Adult Mortality  \\\n",
              "0  Afghanistan  2015  Developing              65.0            263.0   \n",
              "1  Afghanistan  2014  Developing              59.9            271.0   \n",
              "2  Afghanistan  2013  Developing              59.9            268.0   \n",
              "3  Afghanistan  2012  Developing              59.5            272.0   \n",
              "4  Afghanistan  2011  Developing              59.2            275.0   \n",
              "\n",
              "   infant deaths  Alcohol  percentage expenditure  Hepatitis B  Measles   ...  \\\n",
              "0             62     0.01               71.279624         65.0      1154  ...   \n",
              "1             64     0.01               73.523582         62.0       492  ...   \n",
              "2             66     0.01               73.219243         64.0       430  ...   \n",
              "3             69     0.01               78.184215         67.0      2787  ...   \n",
              "4             71     0.01                7.097109         68.0      3013  ...   \n",
              "\n",
              "   Polio  Total expenditure  Diphtheria    HIV/AIDS         GDP  Population  \\\n",
              "0    6.0               8.16         65.0        0.1  584.259210  33736494.0   \n",
              "1   58.0               8.18         62.0        0.1  612.696514    327582.0   \n",
              "2   62.0               8.13         64.0        0.1  631.744976  31731688.0   \n",
              "3   67.0               8.52         67.0        0.1  669.959000   3696958.0   \n",
              "4   68.0               7.87         68.0        0.1   63.537231   2978599.0   \n",
              "\n",
              "    thinness  1-19 years   thinness 5-9 years  \\\n",
              "0                   17.2                 17.3   \n",
              "1                   17.5                 17.5   \n",
              "2                   17.7                 17.7   \n",
              "3                   17.9                 18.0   \n",
              "4                   18.2                 18.2   \n",
              "\n",
              "   Income composition of resources  Schooling  \n",
              "0                            0.479       10.1  \n",
              "1                            0.476       10.0  \n",
              "2                            0.470        9.9  \n",
              "3                            0.463        9.8  \n",
              "4                            0.454        9.5  \n",
              "\n",
              "[5 rows x 22 columns]"
            ],
            "text/html": [
              "\n",
              "  <div id=\"df-ab620bd1-daf1-4432-95fb-19c290f0c650\" class=\"colab-df-container\">\n",
              "    <div>\n",
              "<style scoped>\n",
              "    .dataframe tbody tr th:only-of-type {\n",
              "        vertical-align: middle;\n",
              "    }\n",
              "\n",
              "    .dataframe tbody tr th {\n",
              "        vertical-align: top;\n",
              "    }\n",
              "\n",
              "    .dataframe thead th {\n",
              "        text-align: right;\n",
              "    }\n",
              "</style>\n",
              "<table border=\"1\" class=\"dataframe\">\n",
              "  <thead>\n",
              "    <tr style=\"text-align: right;\">\n",
              "      <th></th>\n",
              "      <th>Country</th>\n",
              "      <th>Year</th>\n",
              "      <th>Status</th>\n",
              "      <th>Life expectancy</th>\n",
              "      <th>Adult Mortality</th>\n",
              "      <th>infant deaths</th>\n",
              "      <th>Alcohol</th>\n",
              "      <th>percentage expenditure</th>\n",
              "      <th>Hepatitis B</th>\n",
              "      <th>Measles</th>\n",
              "      <th>...</th>\n",
              "      <th>Polio</th>\n",
              "      <th>Total expenditure</th>\n",
              "      <th>Diphtheria</th>\n",
              "      <th>HIV/AIDS</th>\n",
              "      <th>GDP</th>\n",
              "      <th>Population</th>\n",
              "      <th>thinness  1-19 years</th>\n",
              "      <th>thinness 5-9 years</th>\n",
              "      <th>Income composition of resources</th>\n",
              "      <th>Schooling</th>\n",
              "    </tr>\n",
              "  </thead>\n",
              "  <tbody>\n",
              "    <tr>\n",
              "      <th>0</th>\n",
              "      <td>Afghanistan</td>\n",
              "      <td>2015</td>\n",
              "      <td>Developing</td>\n",
              "      <td>65.0</td>\n",
              "      <td>263.0</td>\n",
              "      <td>62</td>\n",
              "      <td>0.01</td>\n",
              "      <td>71.279624</td>\n",
              "      <td>65.0</td>\n",
              "      <td>1154</td>\n",
              "      <td>...</td>\n",
              "      <td>6.0</td>\n",
              "      <td>8.16</td>\n",
              "      <td>65.0</td>\n",
              "      <td>0.1</td>\n",
              "      <td>584.259210</td>\n",
              "      <td>33736494.0</td>\n",
              "      <td>17.2</td>\n",
              "      <td>17.3</td>\n",
              "      <td>0.479</td>\n",
              "      <td>10.1</td>\n",
              "    </tr>\n",
              "    <tr>\n",
              "      <th>1</th>\n",
              "      <td>Afghanistan</td>\n",
              "      <td>2014</td>\n",
              "      <td>Developing</td>\n",
              "      <td>59.9</td>\n",
              "      <td>271.0</td>\n",
              "      <td>64</td>\n",
              "      <td>0.01</td>\n",
              "      <td>73.523582</td>\n",
              "      <td>62.0</td>\n",
              "      <td>492</td>\n",
              "      <td>...</td>\n",
              "      <td>58.0</td>\n",
              "      <td>8.18</td>\n",
              "      <td>62.0</td>\n",
              "      <td>0.1</td>\n",
              "      <td>612.696514</td>\n",
              "      <td>327582.0</td>\n",
              "      <td>17.5</td>\n",
              "      <td>17.5</td>\n",
              "      <td>0.476</td>\n",
              "      <td>10.0</td>\n",
              "    </tr>\n",
              "    <tr>\n",
              "      <th>2</th>\n",
              "      <td>Afghanistan</td>\n",
              "      <td>2013</td>\n",
              "      <td>Developing</td>\n",
              "      <td>59.9</td>\n",
              "      <td>268.0</td>\n",
              "      <td>66</td>\n",
              "      <td>0.01</td>\n",
              "      <td>73.219243</td>\n",
              "      <td>64.0</td>\n",
              "      <td>430</td>\n",
              "      <td>...</td>\n",
              "      <td>62.0</td>\n",
              "      <td>8.13</td>\n",
              "      <td>64.0</td>\n",
              "      <td>0.1</td>\n",
              "      <td>631.744976</td>\n",
              "      <td>31731688.0</td>\n",
              "      <td>17.7</td>\n",
              "      <td>17.7</td>\n",
              "      <td>0.470</td>\n",
              "      <td>9.9</td>\n",
              "    </tr>\n",
              "    <tr>\n",
              "      <th>3</th>\n",
              "      <td>Afghanistan</td>\n",
              "      <td>2012</td>\n",
              "      <td>Developing</td>\n",
              "      <td>59.5</td>\n",
              "      <td>272.0</td>\n",
              "      <td>69</td>\n",
              "      <td>0.01</td>\n",
              "      <td>78.184215</td>\n",
              "      <td>67.0</td>\n",
              "      <td>2787</td>\n",
              "      <td>...</td>\n",
              "      <td>67.0</td>\n",
              "      <td>8.52</td>\n",
              "      <td>67.0</td>\n",
              "      <td>0.1</td>\n",
              "      <td>669.959000</td>\n",
              "      <td>3696958.0</td>\n",
              "      <td>17.9</td>\n",
              "      <td>18.0</td>\n",
              "      <td>0.463</td>\n",
              "      <td>9.8</td>\n",
              "    </tr>\n",
              "    <tr>\n",
              "      <th>4</th>\n",
              "      <td>Afghanistan</td>\n",
              "      <td>2011</td>\n",
              "      <td>Developing</td>\n",
              "      <td>59.2</td>\n",
              "      <td>275.0</td>\n",
              "      <td>71</td>\n",
              "      <td>0.01</td>\n",
              "      <td>7.097109</td>\n",
              "      <td>68.0</td>\n",
              "      <td>3013</td>\n",
              "      <td>...</td>\n",
              "      <td>68.0</td>\n",
              "      <td>7.87</td>\n",
              "      <td>68.0</td>\n",
              "      <td>0.1</td>\n",
              "      <td>63.537231</td>\n",
              "      <td>2978599.0</td>\n",
              "      <td>18.2</td>\n",
              "      <td>18.2</td>\n",
              "      <td>0.454</td>\n",
              "      <td>9.5</td>\n",
              "    </tr>\n",
              "  </tbody>\n",
              "</table>\n",
              "<p>5 rows × 22 columns</p>\n",
              "</div>\n",
              "    <div class=\"colab-df-buttons\">\n",
              "\n",
              "  <div class=\"colab-df-container\">\n",
              "    <button class=\"colab-df-convert\" onclick=\"convertToInteractive('df-ab620bd1-daf1-4432-95fb-19c290f0c650')\"\n",
              "            title=\"Convert this dataframe to an interactive table.\"\n",
              "            style=\"display:none;\">\n",
              "\n",
              "  <svg xmlns=\"http://www.w3.org/2000/svg\" height=\"24px\" viewBox=\"0 -960 960 960\">\n",
              "    <path d=\"M120-120v-720h720v720H120Zm60-500h600v-160H180v160Zm220 220h160v-160H400v160Zm0 220h160v-160H400v160ZM180-400h160v-160H180v160Zm440 0h160v-160H620v160ZM180-180h160v-160H180v160Zm440 0h160v-160H620v160Z\"/>\n",
              "  </svg>\n",
              "    </button>\n",
              "\n",
              "  <style>\n",
              "    .colab-df-container {\n",
              "      display:flex;\n",
              "      gap: 12px;\n",
              "    }\n",
              "\n",
              "    .colab-df-convert {\n",
              "      background-color: #E8F0FE;\n",
              "      border: none;\n",
              "      border-radius: 50%;\n",
              "      cursor: pointer;\n",
              "      display: none;\n",
              "      fill: #1967D2;\n",
              "      height: 32px;\n",
              "      padding: 0 0 0 0;\n",
              "      width: 32px;\n",
              "    }\n",
              "\n",
              "    .colab-df-convert:hover {\n",
              "      background-color: #E2EBFA;\n",
              "      box-shadow: 0px 1px 2px rgba(60, 64, 67, 0.3), 0px 1px 3px 1px rgba(60, 64, 67, 0.15);\n",
              "      fill: #174EA6;\n",
              "    }\n",
              "\n",
              "    .colab-df-buttons div {\n",
              "      margin-bottom: 4px;\n",
              "    }\n",
              "\n",
              "    [theme=dark] .colab-df-convert {\n",
              "      background-color: #3B4455;\n",
              "      fill: #D2E3FC;\n",
              "    }\n",
              "\n",
              "    [theme=dark] .colab-df-convert:hover {\n",
              "      background-color: #434B5C;\n",
              "      box-shadow: 0px 1px 3px 1px rgba(0, 0, 0, 0.15);\n",
              "      filter: drop-shadow(0px 1px 2px rgba(0, 0, 0, 0.3));\n",
              "      fill: #FFFFFF;\n",
              "    }\n",
              "  </style>\n",
              "\n",
              "    <script>\n",
              "      const buttonEl =\n",
              "        document.querySelector('#df-ab620bd1-daf1-4432-95fb-19c290f0c650 button.colab-df-convert');\n",
              "      buttonEl.style.display =\n",
              "        google.colab.kernel.accessAllowed ? 'block' : 'none';\n",
              "\n",
              "      async function convertToInteractive(key) {\n",
              "        const element = document.querySelector('#df-ab620bd1-daf1-4432-95fb-19c290f0c650');\n",
              "        const dataTable =\n",
              "          await google.colab.kernel.invokeFunction('convertToInteractive',\n",
              "                                                    [key], {});\n",
              "        if (!dataTable) return;\n",
              "\n",
              "        const docLinkHtml = 'Like what you see? Visit the ' +\n",
              "          '<a target=\"_blank\" href=https://colab.research.google.com/notebooks/data_table.ipynb>data table notebook</a>'\n",
              "          + ' to learn more about interactive tables.';\n",
              "        element.innerHTML = '';\n",
              "        dataTable['output_type'] = 'display_data';\n",
              "        await google.colab.output.renderOutput(dataTable, element);\n",
              "        const docLink = document.createElement('div');\n",
              "        docLink.innerHTML = docLinkHtml;\n",
              "        element.appendChild(docLink);\n",
              "      }\n",
              "    </script>\n",
              "  </div>\n",
              "\n",
              "\n",
              "<div id=\"df-0d90aa16-7bec-48b2-ae3b-8515a1a25874\">\n",
              "  <button class=\"colab-df-quickchart\" onclick=\"quickchart('df-0d90aa16-7bec-48b2-ae3b-8515a1a25874')\"\n",
              "            title=\"Suggest charts\"\n",
              "            style=\"display:none;\">\n",
              "\n",
              "<svg xmlns=\"http://www.w3.org/2000/svg\" height=\"24px\"viewBox=\"0 0 24 24\"\n",
              "     width=\"24px\">\n",
              "    <g>\n",
              "        <path d=\"M19 3H5c-1.1 0-2 .9-2 2v14c0 1.1.9 2 2 2h14c1.1 0 2-.9 2-2V5c0-1.1-.9-2-2-2zM9 17H7v-7h2v7zm4 0h-2V7h2v10zm4 0h-2v-4h2v4z\"/>\n",
              "    </g>\n",
              "</svg>\n",
              "  </button>\n",
              "\n",
              "<style>\n",
              "  .colab-df-quickchart {\n",
              "      --bg-color: #E8F0FE;\n",
              "      --fill-color: #1967D2;\n",
              "      --hover-bg-color: #E2EBFA;\n",
              "      --hover-fill-color: #174EA6;\n",
              "      --disabled-fill-color: #AAA;\n",
              "      --disabled-bg-color: #DDD;\n",
              "  }\n",
              "\n",
              "  [theme=dark] .colab-df-quickchart {\n",
              "      --bg-color: #3B4455;\n",
              "      --fill-color: #D2E3FC;\n",
              "      --hover-bg-color: #434B5C;\n",
              "      --hover-fill-color: #FFFFFF;\n",
              "      --disabled-bg-color: #3B4455;\n",
              "      --disabled-fill-color: #666;\n",
              "  }\n",
              "\n",
              "  .colab-df-quickchart {\n",
              "    background-color: var(--bg-color);\n",
              "    border: none;\n",
              "    border-radius: 50%;\n",
              "    cursor: pointer;\n",
              "    display: none;\n",
              "    fill: var(--fill-color);\n",
              "    height: 32px;\n",
              "    padding: 0;\n",
              "    width: 32px;\n",
              "  }\n",
              "\n",
              "  .colab-df-quickchart:hover {\n",
              "    background-color: var(--hover-bg-color);\n",
              "    box-shadow: 0 1px 2px rgba(60, 64, 67, 0.3), 0 1px 3px 1px rgba(60, 64, 67, 0.15);\n",
              "    fill: var(--button-hover-fill-color);\n",
              "  }\n",
              "\n",
              "  .colab-df-quickchart-complete:disabled,\n",
              "  .colab-df-quickchart-complete:disabled:hover {\n",
              "    background-color: var(--disabled-bg-color);\n",
              "    fill: var(--disabled-fill-color);\n",
              "    box-shadow: none;\n",
              "  }\n",
              "\n",
              "  .colab-df-spinner {\n",
              "    border: 2px solid var(--fill-color);\n",
              "    border-color: transparent;\n",
              "    border-bottom-color: var(--fill-color);\n",
              "    animation:\n",
              "      spin 1s steps(1) infinite;\n",
              "  }\n",
              "\n",
              "  @keyframes spin {\n",
              "    0% {\n",
              "      border-color: transparent;\n",
              "      border-bottom-color: var(--fill-color);\n",
              "      border-left-color: var(--fill-color);\n",
              "    }\n",
              "    20% {\n",
              "      border-color: transparent;\n",
              "      border-left-color: var(--fill-color);\n",
              "      border-top-color: var(--fill-color);\n",
              "    }\n",
              "    30% {\n",
              "      border-color: transparent;\n",
              "      border-left-color: var(--fill-color);\n",
              "      border-top-color: var(--fill-color);\n",
              "      border-right-color: var(--fill-color);\n",
              "    }\n",
              "    40% {\n",
              "      border-color: transparent;\n",
              "      border-right-color: var(--fill-color);\n",
              "      border-top-color: var(--fill-color);\n",
              "    }\n",
              "    60% {\n",
              "      border-color: transparent;\n",
              "      border-right-color: var(--fill-color);\n",
              "    }\n",
              "    80% {\n",
              "      border-color: transparent;\n",
              "      border-right-color: var(--fill-color);\n",
              "      border-bottom-color: var(--fill-color);\n",
              "    }\n",
              "    90% {\n",
              "      border-color: transparent;\n",
              "      border-bottom-color: var(--fill-color);\n",
              "    }\n",
              "  }\n",
              "</style>\n",
              "\n",
              "  <script>\n",
              "    async function quickchart(key) {\n",
              "      const quickchartButtonEl =\n",
              "        document.querySelector('#' + key + ' button');\n",
              "      quickchartButtonEl.disabled = true;  // To prevent multiple clicks.\n",
              "      quickchartButtonEl.classList.add('colab-df-spinner');\n",
              "      try {\n",
              "        const charts = await google.colab.kernel.invokeFunction(\n",
              "            'suggestCharts', [key], {});\n",
              "      } catch (error) {\n",
              "        console.error('Error during call to suggestCharts:', error);\n",
              "      }\n",
              "      quickchartButtonEl.classList.remove('colab-df-spinner');\n",
              "      quickchartButtonEl.classList.add('colab-df-quickchart-complete');\n",
              "    }\n",
              "    (() => {\n",
              "      let quickchartButtonEl =\n",
              "        document.querySelector('#df-0d90aa16-7bec-48b2-ae3b-8515a1a25874 button');\n",
              "      quickchartButtonEl.style.display =\n",
              "        google.colab.kernel.accessAllowed ? 'block' : 'none';\n",
              "    })();\n",
              "  </script>\n",
              "</div>\n",
              "\n",
              "    </div>\n",
              "  </div>\n"
            ],
            "application/vnd.google.colaboratory.intrinsic+json": {
              "type": "dataframe",
              "variable_name": "data"
            }
          },
          "metadata": {},
          "execution_count": 5
        }
      ]
    },
    {
      "cell_type": "code",
      "source": [
        "#Taille du dataset\n",
        "data.shape"
      ],
      "metadata": {
        "colab": {
          "base_uri": "https://localhost:8080/"
        },
        "id": "tcn49g_d6DUs",
        "outputId": "5d41a1eb-2505-4a90-8853-60f0ef481748"
      },
      "execution_count": 6,
      "outputs": [
        {
          "output_type": "execute_result",
          "data": {
            "text/plain": [
              "(2938, 22)"
            ]
          },
          "metadata": {},
          "execution_count": 6
        }
      ]
    },
    {
      "cell_type": "code",
      "source": [
        "data.info()"
      ],
      "metadata": {
        "colab": {
          "base_uri": "https://localhost:8080/"
        },
        "id": "xVPcKl5HJDBm",
        "outputId": "a26f9ad1-9af0-4ec1-8328-c6667b2e601d"
      },
      "execution_count": null,
      "outputs": [
        {
          "output_type": "stream",
          "name": "stdout",
          "text": [
            "<class 'pandas.core.frame.DataFrame'>\n",
            "RangeIndex: 2938 entries, 0 to 2937\n",
            "Data columns (total 19 columns):\n",
            " #   Column                           Non-Null Count  Dtype  \n",
            "---  ------                           --------------  -----  \n",
            " 0   Life expectancy                  2928 non-null   float64\n",
            " 1   Adult Mortality                  2928 non-null   float64\n",
            " 2   infant deaths                    2938 non-null   int64  \n",
            " 3   Alcohol                          2744 non-null   float64\n",
            " 4   percentage expenditure           2938 non-null   float64\n",
            " 5   Hepatitis B                      2385 non-null   float64\n",
            " 6   Measles                          2938 non-null   int64  \n",
            " 7    BMI                             2904 non-null   float64\n",
            " 8   under-five deaths                2938 non-null   int64  \n",
            " 9   Polio                            2919 non-null   float64\n",
            " 10  Total expenditure                2712 non-null   float64\n",
            " 11  Diphtheria                       2919 non-null   float64\n",
            " 12   HIV/AIDS                        2938 non-null   float64\n",
            " 13  GDP                              2490 non-null   float64\n",
            " 14  Population                       2286 non-null   float64\n",
            " 15   thinness  1-19 years            2904 non-null   float64\n",
            " 16   thinness 5-9 years              2904 non-null   float64\n",
            " 17  Income composition of resources  2771 non-null   float64\n",
            " 18  Schooling                        2775 non-null   float64\n",
            "dtypes: float64(16), int64(3)\n",
            "memory usage: 436.2 KB\n"
          ]
        }
      ]
    },
    {
      "cell_type": "markdown",
      "source": [
        "\n",
        "Caractéristiques principales :\n",
        "\n",
        "* Taille : 2938 lignes et 22 colonnes.\n",
        "\n",
        "Variables principales:\n",
        "\n",
        "* Country : Nom du pays.\n",
        "* Year : Année.\n",
        "* Status : État du pays (développé ou en développement).\n",
        "* Life expectancy : Espérance de vie.\n",
        "* Adult Mortality : Mortalité adulte (par 1000).\n",
        "* infant deaths : Décès infantiles.\n",
        "* Alcohol : Consommation d'alcool (litres par personne par an).\n",
        "* GDP : Produit intérieur brut par habitant."
      ],
      "metadata": {
        "id": "JeM67K18597S"
      }
    },
    {
      "cell_type": "markdown",
      "source": [
        "### Prétraitement des données"
      ],
      "metadata": {
        "id": "5StD_-Zw6hn0"
      }
    },
    {
      "cell_type": "code",
      "source": [
        "# 1. Suppression des colonnes inutiles\n",
        "data = data.drop(columns=['Country', 'Year', 'Status'])\n"
      ],
      "metadata": {
        "id": "0dKzJ_adIiPu"
      },
      "execution_count": 7,
      "outputs": []
    },
    {
      "cell_type": "code",
      "source": [
        "# Remplir les valeurs nulles par la moyenne pour les colonnes numériques\n",
        "for col in data.select_dtypes(include=['float64', 'int64']).columns:\n",
        "    data[col].fillna(data[col].mean(), inplace=True)\n"
      ],
      "metadata": {
        "colab": {
          "base_uri": "https://localhost:8080/"
        },
        "id": "27qFR830IyKI",
        "outputId": "52976119-41ec-4e77-9da6-ab9ae18d3fbd"
      },
      "execution_count": 8,
      "outputs": [
        {
          "output_type": "stream",
          "name": "stderr",
          "text": [
            "<ipython-input-8-e8802dd1ed2d>:3: FutureWarning: A value is trying to be set on a copy of a DataFrame or Series through chained assignment using an inplace method.\n",
            "The behavior will change in pandas 3.0. This inplace method will never work because the intermediate object on which we are setting values always behaves as a copy.\n",
            "\n",
            "For example, when doing 'df[col].method(value, inplace=True)', try using 'df.method({col: value}, inplace=True)' or df[col] = df[col].method(value) instead, to perform the operation inplace on the original object.\n",
            "\n",
            "\n",
            "  data[col].fillna(data[col].mean(), inplace=True)\n"
          ]
        }
      ]
    },
    {
      "cell_type": "code",
      "source": [
        "#Vérification de l'absence de valeurs nulles\n",
        "data.isna().sum()"
      ],
      "metadata": {
        "colab": {
          "base_uri": "https://localhost:8080/",
          "height": 680
        },
        "id": "45sh0KoDJIb1",
        "outputId": "9f794a61-1596-451d-d781-88cfa246056b"
      },
      "execution_count": 9,
      "outputs": [
        {
          "output_type": "execute_result",
          "data": {
            "text/plain": [
              "Life expectancy                    0\n",
              "Adult Mortality                    0\n",
              "infant deaths                      0\n",
              "Alcohol                            0\n",
              "percentage expenditure             0\n",
              "Hepatitis B                        0\n",
              "Measles                            0\n",
              " BMI                               0\n",
              "under-five deaths                  0\n",
              "Polio                              0\n",
              "Total expenditure                  0\n",
              "Diphtheria                         0\n",
              " HIV/AIDS                          0\n",
              "GDP                                0\n",
              "Population                         0\n",
              " thinness  1-19 years              0\n",
              " thinness 5-9 years                0\n",
              "Income composition of resources    0\n",
              "Schooling                          0\n",
              "dtype: int64"
            ],
            "text/html": [
              "<div>\n",
              "<style scoped>\n",
              "    .dataframe tbody tr th:only-of-type {\n",
              "        vertical-align: middle;\n",
              "    }\n",
              "\n",
              "    .dataframe tbody tr th {\n",
              "        vertical-align: top;\n",
              "    }\n",
              "\n",
              "    .dataframe thead th {\n",
              "        text-align: right;\n",
              "    }\n",
              "</style>\n",
              "<table border=\"1\" class=\"dataframe\">\n",
              "  <thead>\n",
              "    <tr style=\"text-align: right;\">\n",
              "      <th></th>\n",
              "      <th>0</th>\n",
              "    </tr>\n",
              "  </thead>\n",
              "  <tbody>\n",
              "    <tr>\n",
              "      <th>Life expectancy</th>\n",
              "      <td>0</td>\n",
              "    </tr>\n",
              "    <tr>\n",
              "      <th>Adult Mortality</th>\n",
              "      <td>0</td>\n",
              "    </tr>\n",
              "    <tr>\n",
              "      <th>infant deaths</th>\n",
              "      <td>0</td>\n",
              "    </tr>\n",
              "    <tr>\n",
              "      <th>Alcohol</th>\n",
              "      <td>0</td>\n",
              "    </tr>\n",
              "    <tr>\n",
              "      <th>percentage expenditure</th>\n",
              "      <td>0</td>\n",
              "    </tr>\n",
              "    <tr>\n",
              "      <th>Hepatitis B</th>\n",
              "      <td>0</td>\n",
              "    </tr>\n",
              "    <tr>\n",
              "      <th>Measles</th>\n",
              "      <td>0</td>\n",
              "    </tr>\n",
              "    <tr>\n",
              "      <th>BMI</th>\n",
              "      <td>0</td>\n",
              "    </tr>\n",
              "    <tr>\n",
              "      <th>under-five deaths</th>\n",
              "      <td>0</td>\n",
              "    </tr>\n",
              "    <tr>\n",
              "      <th>Polio</th>\n",
              "      <td>0</td>\n",
              "    </tr>\n",
              "    <tr>\n",
              "      <th>Total expenditure</th>\n",
              "      <td>0</td>\n",
              "    </tr>\n",
              "    <tr>\n",
              "      <th>Diphtheria</th>\n",
              "      <td>0</td>\n",
              "    </tr>\n",
              "    <tr>\n",
              "      <th>HIV/AIDS</th>\n",
              "      <td>0</td>\n",
              "    </tr>\n",
              "    <tr>\n",
              "      <th>GDP</th>\n",
              "      <td>0</td>\n",
              "    </tr>\n",
              "    <tr>\n",
              "      <th>Population</th>\n",
              "      <td>0</td>\n",
              "    </tr>\n",
              "    <tr>\n",
              "      <th>thinness  1-19 years</th>\n",
              "      <td>0</td>\n",
              "    </tr>\n",
              "    <tr>\n",
              "      <th>thinness 5-9 years</th>\n",
              "      <td>0</td>\n",
              "    </tr>\n",
              "    <tr>\n",
              "      <th>Income composition of resources</th>\n",
              "      <td>0</td>\n",
              "    </tr>\n",
              "    <tr>\n",
              "      <th>Schooling</th>\n",
              "      <td>0</td>\n",
              "    </tr>\n",
              "  </tbody>\n",
              "</table>\n",
              "</div><br><label><b>dtype:</b> int64</label>"
            ]
          },
          "metadata": {},
          "execution_count": 9
        }
      ]
    },
    {
      "cell_type": "code",
      "source": [
        "\n",
        "# 2. Séparer la cible (Life expectancy) et les features\n",
        "X = data.drop(columns=['Life expectancy '])\n",
        "y = data['Life expectancy ']"
      ],
      "metadata": {
        "id": "48nojLLhJIee"
      },
      "execution_count": 10,
      "outputs": []
    },
    {
      "cell_type": "code",
      "source": [
        "X.shape"
      ],
      "metadata": {
        "colab": {
          "base_uri": "https://localhost:8080/"
        },
        "id": "dsntvoh1JsGE",
        "outputId": "5c805bd5-1714-426c-e35a-7752d6f58113"
      },
      "execution_count": 11,
      "outputs": [
        {
          "output_type": "execute_result",
          "data": {
            "text/plain": [
              "(2938, 18)"
            ]
          },
          "metadata": {},
          "execution_count": 11
        }
      ]
    },
    {
      "cell_type": "code",
      "source": [
        "y.shape"
      ],
      "metadata": {
        "colab": {
          "base_uri": "https://localhost:8080/"
        },
        "id": "J9TukjRcJtdt",
        "outputId": "c4768442-7b71-4756-cefb-8048a92ae2f2"
      },
      "execution_count": 12,
      "outputs": [
        {
          "output_type": "execute_result",
          "data": {
            "text/plain": [
              "(2938,)"
            ]
          },
          "metadata": {},
          "execution_count": 12
        }
      ]
    },
    {
      "cell_type": "code",
      "source": [
        "y=y.values.reshape(-1,1)"
      ],
      "metadata": {
        "id": "76edUCobKO_K"
      },
      "execution_count": 13,
      "outputs": []
    },
    {
      "cell_type": "code",
      "source": [
        "# Normalisation des caractéristiques\n",
        "scaler = StandardScaler()\n",
        "X_scaled = scaler.fit_transform(X)\n",
        "y_scaled = scaler.fit_transform(y)\n"
      ],
      "metadata": {
        "id": "Wrf3PqYdJPK2"
      },
      "execution_count": 16,
      "outputs": []
    },
    {
      "cell_type": "markdown",
      "source": [
        "La normalisation des données garantit que toutes les variables ont une échelle similaire, évitant que celles ayant une grande plage de valeurs ne dominent les calculs.\n",
        "\n",
        "Le StandardScaler transforme les données pour qu'elles aient :\n",
        "\n",
        "Une moyenne de 0.\n",
        "\n",
        "Un écart-type de 1."
      ],
      "metadata": {
        "id": "luAiRSV37F1_"
      }
    },
    {
      "cell_type": "code",
      "source": [
        "#Affichage des variables apres la normalisation\n",
        "X_scaled"
      ],
      "metadata": {
        "colab": {
          "base_uri": "https://localhost:8080/"
        },
        "id": "v48Q1LbNKX6R",
        "outputId": "96659244-17f4-4f95-bc7e-7609cee5cccc"
      },
      "execution_count": 15,
      "outputs": [
        {
          "output_type": "execute_result",
          "data": {
            "text/plain": [
              "array([[ 0.79158632,  0.26882378, -1.1729584 , ...,  2.77327898,\n",
              "        -0.72540055, -0.57993072],\n",
              "       [ 0.85607167,  0.28578638, -1.1729584 , ...,  2.81790246,\n",
              "        -0.74005007, -0.61056961],\n",
              "       [ 0.83188966,  0.30274898, -1.1729584 , ...,  2.86252595,\n",
              "        -0.7693491 , -0.6412085 ],\n",
              "       ...,\n",
              "       [-0.73994077, -0.04498439, -0.04414645, ..., -0.79659991,\n",
              "        -0.97932554, -0.61056961],\n",
              "       [ 4.20124926, -0.04498439, -0.73624609, ..., -0.70735294,\n",
              "        -0.97932554, -0.6718474 ],\n",
              "       [ 4.03197521, -0.05346569, -0.74646158, ...,  1.41226265,\n",
              "        -0.94514333, -0.6718474 ]])"
            ]
          },
          "metadata": {},
          "execution_count": 15
        }
      ]
    },
    {
      "cell_type": "code",
      "source": [
        "y_scaled"
      ],
      "metadata": {
        "colab": {
          "base_uri": "https://localhost:8080/"
        },
        "id": "wHk1M4AmKYBz",
        "outputId": "5a0f8069-b1ae-46b5-b578-2c21649d9773"
      },
      "execution_count": 17,
      "outputs": [
        {
          "output_type": "execute_result",
          "data": {
            "text/plain": [
              "array([[-0.44444792],\n",
              "       [-0.98094995],\n",
              "       [-0.98094995],\n",
              "       ...,\n",
              "       [-2.56941673],\n",
              "       [-2.5168185 ],\n",
              "       [-2.44318096]])"
            ]
          },
          "metadata": {},
          "execution_count": 17
        }
      ]
    },
    {
      "cell_type": "code",
      "source": [
        "# Division en ensembles d'entraînement et de test\n",
        "X_train, X_test, y_train, y_test = train_test_split(X_scaled, y_scaled, test_size=0.2, random_state=42)"
      ],
      "metadata": {
        "id": "-cax7_eZJPNh"
      },
      "execution_count": 18,
      "outputs": []
    },
    {
      "cell_type": "markdown",
      "source": [
        "### Implémentation d’un réseau de neurones avec Tensforflow"
      ],
      "metadata": {
        "id": "qAqRstI__hC5"
      }
    },
    {
      "cell_type": "markdown",
      "source": [
        "Dans cette fonction, nous avons utilisé TensorFlow et son API Keras pour construire un modèle de réseau de neurones (NN) destiné à résoudre un problème de régression.\n",
        "Elle inclut des paramètres réglables pour faciliter l'optimisation des hyperparamètres."
      ],
      "metadata": {
        "id": "v7DMMGgH7jof"
      }
    },
    {
      "cell_type": "code",
      "source": [
        "def create_model(optimizer='adam', neurons=32, dropout_rate=0.2):\n",
        "    model = Sequential()\n",
        "    model.add(Dense(neurons, input_dim=X.shape[1], activation='relu'))\n",
        "    model.add(Dropout(dropout_rate))\n",
        "    model.add(Dense(neurons, activation='relu'))\n",
        "    model.add(Dropout(dropout_rate))\n",
        "    model.add(Dense(1))\n",
        "    model.compile(optimizer=optimizer, loss='mean_squared_error', metrics=['mean_squared_error'])\n",
        "    return model\n"
      ],
      "metadata": {
        "id": "CH1rgKGMIiSo"
      },
      "execution_count": 23,
      "outputs": []
    },
    {
      "cell_type": "markdown",
      "source": [
        "* optimizer: adam est l'algorithme d'optimisation utilisé pour mettre à jour les poids\n",
        "* dropout_rate: proportion des neurones désactivés aléatoirement pendant l'entrainement pour la régularisation (prévenir l'overfitting)(default: 0.2)\n",
        "* activation='relu' : Utilise la fonction d'activation ReLU, qui introduit la non-linéarité et aide à apprendre des relations complexes.\n",
        "\n",
        "\n"
      ],
      "metadata": {
        "id": "4hQFkz3j7nW-"
      }
    },
    {
      "cell_type": "code",
      "source": [
        "# Wrapper Keras pour la régression\n",
        "model = KerasRegressor(\n",
        "    model=create_model,\n",
        "    verbose=0\n",
        ")\n",
        "#Transformer le modèle Keras en un classifieur compatible avec les outils de scikit-learn, comme GridSearchCV ou RandomizedSearchCV, pour effectuer une recherche d'hyperparamètres."
      ],
      "metadata": {
        "id": "amdjCqQwLFmV"
      },
      "execution_count": 24,
      "outputs": []
    },
    {
      "cell_type": "markdown",
      "source": [
        "Le wrapper permet de passer les paramètres (=neurons, dropout_rate, optimizer, etc.) directement via les outils de recherche de scikit-learn, rendant le processus d'optimisation fluide."
      ],
      "metadata": {
        "id": "Vp_543YJ7xVW"
      }
    },
    {
      "cell_type": "markdown",
      "source": [
        "##  La recherche d-hyper parametres avec Random Search"
      ],
      "metadata": {
        "id": "pcrSVtha8Td0"
      }
    },
    {
      "cell_type": "markdown",
      "source": [
        "### Random Search pour optimiser les hypermarametres\n",
        "\n",
        "La Random Search est une méthode d'optimisation des hyperparamètres qui explore aléatoirement différentes combinaisons au lieu de tester toutes les combinaisons possibles comme dans la Grid Search. Cela permet de réduire le coût computationnel tout en ayant de bonnes chances de trouver des hyperparamètres optimaux.\n",
        "\n",
        "\n",
        "=> Les combinaisons des hyperparamètres dans param_grid choisies aléatoirement sont testées.\n",
        "Chaque combinaison est évaluée à l'aide de la validation croisée.\n",
        "La combinaison qui maximise la précision moyenne sur les ensembles de validation est retenue."
      ],
      "metadata": {
        "id": "aPIZeVc48Kxs"
      }
    },
    {
      "cell_type": "code",
      "source": [
        "## Définir les hyperparamètres à explorer\n",
        "#Dictionnaire contenant les hyperparametres du modele à tester lors de la recherche\n",
        "\n",
        "param_distributions = {\n",
        "    'model__optimizer': ['adam', 'rmsprop'],  # Optimizers\n",
        "    'model__neurons': [32, 64, 128],          # Nombre de neurones dans les couches cachées\n",
        "    'model__dropout_rate': [0.2, 0.3, 0.5],  # Taux de dropout\n",
        "    'batch_size': [16, 32],              # Taille des batchs\n",
        "    'epochs': [50, 100]                 # Nombre d'époques\n",
        "}\n",
        "\n",
        "#Effectuer la recherche avec RandomizedSearchCV\n",
        "random_search = RandomizedSearchCV(\n",
        "    estimator=model,\n",
        "    param_distributions=param_distributions,\n",
        "    n_iter=10,  # Tester 10 combinaisons\n",
        "    cv=3,       # Validation croisée avec 3 folds\n",
        "    scoring='neg_mean_squared_error',  # MSE négatif comme score\n",
        "    n_jobs=-1,\n",
        "    random_state=42\n",
        ")\n",
        "#Le modele a évaluer ici est le wrapper KerasClassifier avec le dictionnaire d'hyperparametres\n",
        "#CV=3: Validation croisée à 3 plis\n",
        "\n",
        "# Lancer la recherche\n",
        "random_search_result = random_search.fit(X_train, y_train)\n",
        "# Afficher les meilleurs paramètres et la meilleure performance\n",
        "print(f\"Meilleurs paramètres : {random_search_result.best_params_}\")\n",
        "print(f\"Meilleure performance (MSE négatif) : {random_search_result.best_score_}\")\n"
      ],
      "metadata": {
        "colab": {
          "base_uri": "https://localhost:8080/"
        },
        "id": "rtFzgJ2HLFo2",
        "outputId": "37772319-1506-4011-8a64-4cd5e0f83bbb"
      },
      "execution_count": 25,
      "outputs": [
        {
          "output_type": "stream",
          "name": "stderr",
          "text": [
            "/usr/local/lib/python3.10/dist-packages/numpy/ma/core.py:2820: RuntimeWarning: invalid value encountered in cast\n",
            "  _data = np.array(data, dtype=dtype, copy=copy,\n",
            "/usr/local/lib/python3.10/dist-packages/keras/src/layers/core/dense.py:87: UserWarning: Do not pass an `input_shape`/`input_dim` argument to a layer. When using Sequential models, prefer using an `Input(shape)` object as the first layer in the model instead.\n",
            "  super().__init__(activity_regularizer=activity_regularizer, **kwargs)\n"
          ]
        },
        {
          "output_type": "stream",
          "name": "stdout",
          "text": [
            "Meilleurs paramètres : {'model__optimizer': 'adam', 'model__neurons': 128, 'model__dropout_rate': 0.3, 'epochs': 100, 'batch_size': 16}\n",
            "Meilleure performance (MSE négatif) : -0.07237098687136774\n"
          ]
        }
      ]
    },
    {
      "cell_type": "code",
      "source": [
        "# Obtenir la MSE réelle\n",
        "best_mse = -random_search_result.best_score_  # On inverse la négation pour avoir la MSE positive\n",
        "print(f\"Meilleure MSE (positif) : {best_mse:.4f}\")"
      ],
      "metadata": {
        "colab": {
          "base_uri": "https://localhost:8080/"
        },
        "id": "fu80Tpu2LFrR",
        "outputId": "e00a431c-52e3-4b2a-d2ce-54dbdb9798e5"
      },
      "execution_count": 26,
      "outputs": [
        {
          "output_type": "stream",
          "name": "stdout",
          "text": [
            "Meilleure MSE (positif) : 0.0724\n"
          ]
        }
      ]
    },
    {
      "cell_type": "code",
      "source": [
        "# Récupérer les meilleurs paramètres\n",
        "best_params = random_search_result.best_params_\n",
        "\n",
        "# Créer et entraîner le meilleur modèle\n",
        "#Appel de la fonction create_model pour créer un réseau de neurones avec les meilleures parametres passés comme argument\n",
        "\n",
        "final_model = create_model(\n",
        "    optimizer=best_params['model__optimizer'],\n",
        "    neurons=best_params['model__neurons'],\n",
        "    dropout_rate=best_params['model__dropout_rate']\n",
        ")\n",
        "\n",
        "# Entraîner le modèle avec les meilleurs hyperparamètres\n",
        "history = final_model.fit(\n",
        "    X_train,\n",
        "    y_train,\n",
        "    epochs=best_params['epochs'],\n",
        "    batch_size=best_params['batch_size'],\n",
        "    validation_data=(X_test, y_test),\n",
        "    verbose=1\n",
        ")\n",
        "#l'objet history contient les informations sur l'entrainement :\n",
        "#loss : Valeur de la fonction de perte pour l'entraînement à chaque époque.\n",
        "#accuracy : Précision sur les données d'entraînement.\n",
        "#val_loss : Valeur de la fonction de perte sur les données de validation.\n",
        "#val_accuracy : Précision sur les données de validation.\n",
        "\n",
        "# Évaluer sur l'ensemble de test\n",
        "y_pred = final_model.predict(X_test).flatten()\n",
        "final_mse = mean_squared_error(y_test, y_pred)\n",
        "print(f\"Test MSE : {final_mse:.4f}\")\n"
      ],
      "metadata": {
        "colab": {
          "base_uri": "https://localhost:8080/"
        },
        "id": "5gMd073zLFt7",
        "outputId": "5fbb6ceb-a64e-46c7-cc54-7085ea62804c"
      },
      "execution_count": 27,
      "outputs": [
        {
          "output_type": "stream",
          "name": "stdout",
          "text": [
            "Epoch 1/100\n",
            "\u001b[1m147/147\u001b[0m \u001b[32m━━━━━━━━━━━━━━━━━━━━\u001b[0m\u001b[37m\u001b[0m \u001b[1m2s\u001b[0m 3ms/step - loss: 0.4704 - mean_squared_error: 0.4704 - val_loss: 0.1431 - val_mean_squared_error: 0.1431\n",
            "Epoch 2/100\n",
            "\u001b[1m147/147\u001b[0m \u001b[32m━━━━━━━━━━━━━━━━━━━━\u001b[0m\u001b[37m\u001b[0m \u001b[1m0s\u001b[0m 3ms/step - loss: 0.2273 - mean_squared_error: 0.2273 - val_loss: 0.1322 - val_mean_squared_error: 0.1322\n",
            "Epoch 3/100\n",
            "\u001b[1m147/147\u001b[0m \u001b[32m━━━━━━━━━━━━━━━━━━━━\u001b[0m\u001b[37m\u001b[0m \u001b[1m1s\u001b[0m 2ms/step - loss: 0.2109 - mean_squared_error: 0.2109 - val_loss: 0.1265 - val_mean_squared_error: 0.1265\n",
            "Epoch 4/100\n",
            "\u001b[1m147/147\u001b[0m \u001b[32m━━━━━━━━━━━━━━━━━━━━\u001b[0m\u001b[37m\u001b[0m \u001b[1m0s\u001b[0m 2ms/step - loss: 0.1649 - mean_squared_error: 0.1649 - val_loss: 0.0922 - val_mean_squared_error: 0.0922\n",
            "Epoch 5/100\n",
            "\u001b[1m147/147\u001b[0m \u001b[32m━━━━━━━━━━━━━━━━━━━━\u001b[0m\u001b[37m\u001b[0m \u001b[1m1s\u001b[0m 2ms/step - loss: 0.1497 - mean_squared_error: 0.1497 - val_loss: 0.0909 - val_mean_squared_error: 0.0909\n",
            "Epoch 6/100\n",
            "\u001b[1m147/147\u001b[0m \u001b[32m━━━━━━━━━━━━━━━━━━━━\u001b[0m\u001b[37m\u001b[0m \u001b[1m1s\u001b[0m 2ms/step - loss: 0.1359 - mean_squared_error: 0.1359 - val_loss: 0.0915 - val_mean_squared_error: 0.0915\n",
            "Epoch 7/100\n",
            "\u001b[1m147/147\u001b[0m \u001b[32m━━━━━━━━━━━━━━━━━━━━\u001b[0m\u001b[37m\u001b[0m \u001b[1m0s\u001b[0m 2ms/step - loss: 0.1294 - mean_squared_error: 0.1294 - val_loss: 0.0927 - val_mean_squared_error: 0.0927\n",
            "Epoch 8/100\n",
            "\u001b[1m147/147\u001b[0m \u001b[32m━━━━━━━━━━━━━━━━━━━━\u001b[0m\u001b[37m\u001b[0m \u001b[1m1s\u001b[0m 2ms/step - loss: 0.1267 - mean_squared_error: 0.1267 - val_loss: 0.0741 - val_mean_squared_error: 0.0741\n",
            "Epoch 9/100\n",
            "\u001b[1m147/147\u001b[0m \u001b[32m━━━━━━━━━━━━━━━━━━━━\u001b[0m\u001b[37m\u001b[0m \u001b[1m0s\u001b[0m 2ms/step - loss: 0.1137 - mean_squared_error: 0.1137 - val_loss: 0.0795 - val_mean_squared_error: 0.0795\n",
            "Epoch 10/100\n",
            "\u001b[1m147/147\u001b[0m \u001b[32m━━━━━━━━━━━━━━━━━━━━\u001b[0m\u001b[37m\u001b[0m \u001b[1m1s\u001b[0m 4ms/step - loss: 0.1169 - mean_squared_error: 0.1169 - val_loss: 0.0785 - val_mean_squared_error: 0.0785\n",
            "Epoch 11/100\n",
            "\u001b[1m147/147\u001b[0m \u001b[32m━━━━━━━━━━━━━━━━━━━━\u001b[0m\u001b[37m\u001b[0m \u001b[1m1s\u001b[0m 4ms/step - loss: 0.1093 - mean_squared_error: 0.1093 - val_loss: 0.0689 - val_mean_squared_error: 0.0689\n",
            "Epoch 12/100\n",
            "\u001b[1m147/147\u001b[0m \u001b[32m━━━━━━━━━━━━━━━━━━━━\u001b[0m\u001b[37m\u001b[0m \u001b[1m1s\u001b[0m 4ms/step - loss: 0.1021 - mean_squared_error: 0.1021 - val_loss: 0.0682 - val_mean_squared_error: 0.0682\n",
            "Epoch 13/100\n",
            "\u001b[1m147/147\u001b[0m \u001b[32m━━━━━━━━━━━━━━━━━━━━\u001b[0m\u001b[37m\u001b[0m \u001b[1m1s\u001b[0m 4ms/step - loss: 0.1037 - mean_squared_error: 0.1037 - val_loss: 0.0714 - val_mean_squared_error: 0.0714\n",
            "Epoch 14/100\n",
            "\u001b[1m147/147\u001b[0m \u001b[32m━━━━━━━━━━━━━━━━━━━━\u001b[0m\u001b[37m\u001b[0m \u001b[1m1s\u001b[0m 2ms/step - loss: 0.1042 - mean_squared_error: 0.1042 - val_loss: 0.0759 - val_mean_squared_error: 0.0759\n",
            "Epoch 15/100\n",
            "\u001b[1m147/147\u001b[0m \u001b[32m━━━━━━━━━━━━━━━━━━━━\u001b[0m\u001b[37m\u001b[0m \u001b[1m1s\u001b[0m 2ms/step - loss: 0.0989 - mean_squared_error: 0.0989 - val_loss: 0.0641 - val_mean_squared_error: 0.0641\n",
            "Epoch 16/100\n",
            "\u001b[1m147/147\u001b[0m \u001b[32m━━━━━━━━━━━━━━━━━━━━\u001b[0m\u001b[37m\u001b[0m \u001b[1m1s\u001b[0m 3ms/step - loss: 0.0984 - mean_squared_error: 0.0984 - val_loss: 0.0739 - val_mean_squared_error: 0.0739\n",
            "Epoch 17/100\n",
            "\u001b[1m147/147\u001b[0m \u001b[32m━━━━━━━━━━━━━━━━━━━━\u001b[0m\u001b[37m\u001b[0m \u001b[1m1s\u001b[0m 4ms/step - loss: 0.0986 - mean_squared_error: 0.0986 - val_loss: 0.0659 - val_mean_squared_error: 0.0659\n",
            "Epoch 18/100\n",
            "\u001b[1m147/147\u001b[0m \u001b[32m━━━━━━━━━━━━━━━━━━━━\u001b[0m\u001b[37m\u001b[0m \u001b[1m1s\u001b[0m 3ms/step - loss: 0.0931 - mean_squared_error: 0.0931 - val_loss: 0.0706 - val_mean_squared_error: 0.0706\n",
            "Epoch 19/100\n",
            "\u001b[1m147/147\u001b[0m \u001b[32m━━━━━━━━━━━━━━━━━━━━\u001b[0m\u001b[37m\u001b[0m \u001b[1m1s\u001b[0m 2ms/step - loss: 0.0916 - mean_squared_error: 0.0916 - val_loss: 0.0791 - val_mean_squared_error: 0.0791\n",
            "Epoch 20/100\n",
            "\u001b[1m147/147\u001b[0m \u001b[32m━━━━━━━━━━━━━━━━━━━━\u001b[0m\u001b[37m\u001b[0m \u001b[1m0s\u001b[0m 3ms/step - loss: 0.0925 - mean_squared_error: 0.0925 - val_loss: 0.0670 - val_mean_squared_error: 0.0670\n",
            "Epoch 21/100\n",
            "\u001b[1m147/147\u001b[0m \u001b[32m━━━━━━━━━━━━━━━━━━━━\u001b[0m\u001b[37m\u001b[0m \u001b[1m0s\u001b[0m 3ms/step - loss: 0.0925 - mean_squared_error: 0.0925 - val_loss: 0.0658 - val_mean_squared_error: 0.0658\n",
            "Epoch 22/100\n",
            "\u001b[1m147/147\u001b[0m \u001b[32m━━━━━━━━━━━━━━━━━━━━\u001b[0m\u001b[37m\u001b[0m \u001b[1m1s\u001b[0m 2ms/step - loss: 0.0845 - mean_squared_error: 0.0845 - val_loss: 0.0728 - val_mean_squared_error: 0.0728\n",
            "Epoch 23/100\n",
            "\u001b[1m147/147\u001b[0m \u001b[32m━━━━━━━━━━━━━━━━━━━━\u001b[0m\u001b[37m\u001b[0m \u001b[1m1s\u001b[0m 2ms/step - loss: 0.0913 - mean_squared_error: 0.0913 - val_loss: 0.0565 - val_mean_squared_error: 0.0565\n",
            "Epoch 24/100\n",
            "\u001b[1m147/147\u001b[0m \u001b[32m━━━━━━━━━━━━━━━━━━━━\u001b[0m\u001b[37m\u001b[0m \u001b[1m0s\u001b[0m 2ms/step - loss: 0.0867 - mean_squared_error: 0.0867 - val_loss: 0.0543 - val_mean_squared_error: 0.0543\n",
            "Epoch 25/100\n",
            "\u001b[1m147/147\u001b[0m \u001b[32m━━━━━━━━━━━━━━━━━━━━\u001b[0m\u001b[37m\u001b[0m \u001b[1m0s\u001b[0m 3ms/step - loss: 0.0879 - mean_squared_error: 0.0879 - val_loss: 0.0548 - val_mean_squared_error: 0.0548\n",
            "Epoch 26/100\n",
            "\u001b[1m147/147\u001b[0m \u001b[32m━━━━━━━━━━━━━━━━━━━━\u001b[0m\u001b[37m\u001b[0m \u001b[1m1s\u001b[0m 2ms/step - loss: 0.0855 - mean_squared_error: 0.0855 - val_loss: 0.0716 - val_mean_squared_error: 0.0716\n",
            "Epoch 27/100\n",
            "\u001b[1m147/147\u001b[0m \u001b[32m━━━━━━━━━━━━━━━━━━━━\u001b[0m\u001b[37m\u001b[0m \u001b[1m0s\u001b[0m 2ms/step - loss: 0.0832 - mean_squared_error: 0.0832 - val_loss: 0.0682 - val_mean_squared_error: 0.0682\n",
            "Epoch 28/100\n",
            "\u001b[1m147/147\u001b[0m \u001b[32m━━━━━━━━━━━━━━━━━━━━\u001b[0m\u001b[37m\u001b[0m \u001b[1m0s\u001b[0m 2ms/step - loss: 0.0891 - mean_squared_error: 0.0891 - val_loss: 0.0609 - val_mean_squared_error: 0.0609\n",
            "Epoch 29/100\n",
            "\u001b[1m147/147\u001b[0m \u001b[32m━━━━━━━━━━━━━━━━━━━━\u001b[0m\u001b[37m\u001b[0m \u001b[1m1s\u001b[0m 3ms/step - loss: 0.0797 - mean_squared_error: 0.0797 - val_loss: 0.0626 - val_mean_squared_error: 0.0626\n",
            "Epoch 30/100\n",
            "\u001b[1m147/147\u001b[0m \u001b[32m━━━━━━━━━━━━━━━━━━━━\u001b[0m\u001b[37m\u001b[0m \u001b[1m1s\u001b[0m 3ms/step - loss: 0.0787 - mean_squared_error: 0.0787 - val_loss: 0.0569 - val_mean_squared_error: 0.0569\n",
            "Epoch 31/100\n",
            "\u001b[1m147/147\u001b[0m \u001b[32m━━━━━━━━━━━━━━━━━━━━\u001b[0m\u001b[37m\u001b[0m \u001b[1m1s\u001b[0m 2ms/step - loss: 0.0833 - mean_squared_error: 0.0833 - val_loss: 0.0614 - val_mean_squared_error: 0.0614\n",
            "Epoch 32/100\n",
            "\u001b[1m147/147\u001b[0m \u001b[32m━━━━━━━━━━━━━━━━━━━━\u001b[0m\u001b[37m\u001b[0m \u001b[1m1s\u001b[0m 4ms/step - loss: 0.0839 - mean_squared_error: 0.0839 - val_loss: 0.0628 - val_mean_squared_error: 0.0628\n",
            "Epoch 33/100\n",
            "\u001b[1m147/147\u001b[0m \u001b[32m━━━━━━━━━━━━━━━━━━━━\u001b[0m\u001b[37m\u001b[0m \u001b[1m1s\u001b[0m 4ms/step - loss: 0.0774 - mean_squared_error: 0.0774 - val_loss: 0.0633 - val_mean_squared_error: 0.0633\n",
            "Epoch 34/100\n",
            "\u001b[1m147/147\u001b[0m \u001b[32m━━━━━━━━━━━━━━━━━━━━\u001b[0m\u001b[37m\u001b[0m \u001b[1m1s\u001b[0m 4ms/step - loss: 0.0802 - mean_squared_error: 0.0802 - val_loss: 0.0610 - val_mean_squared_error: 0.0610\n",
            "Epoch 35/100\n",
            "\u001b[1m147/147\u001b[0m \u001b[32m━━━━━━━━━━━━━━━━━━━━\u001b[0m\u001b[37m\u001b[0m \u001b[1m1s\u001b[0m 4ms/step - loss: 0.0778 - mean_squared_error: 0.0778 - val_loss: 0.0651 - val_mean_squared_error: 0.0651\n",
            "Epoch 36/100\n",
            "\u001b[1m147/147\u001b[0m \u001b[32m━━━━━━━━━━━━━━━━━━━━\u001b[0m\u001b[37m\u001b[0m \u001b[1m1s\u001b[0m 4ms/step - loss: 0.0737 - mean_squared_error: 0.0737 - val_loss: 0.0595 - val_mean_squared_error: 0.0595\n",
            "Epoch 37/100\n",
            "\u001b[1m147/147\u001b[0m \u001b[32m━━━━━━━━━━━━━━━━━━━━\u001b[0m\u001b[37m\u001b[0m \u001b[1m1s\u001b[0m 3ms/step - loss: 0.0759 - mean_squared_error: 0.0759 - val_loss: 0.0523 - val_mean_squared_error: 0.0523\n",
            "Epoch 38/100\n",
            "\u001b[1m147/147\u001b[0m \u001b[32m━━━━━━━━━━━━━━━━━━━━\u001b[0m\u001b[37m\u001b[0m \u001b[1m0s\u001b[0m 2ms/step - loss: 0.0737 - mean_squared_error: 0.0737 - val_loss: 0.0660 - val_mean_squared_error: 0.0660\n",
            "Epoch 39/100\n",
            "\u001b[1m147/147\u001b[0m \u001b[32m━━━━━━━━━━━━━━━━━━━━\u001b[0m\u001b[37m\u001b[0m \u001b[1m0s\u001b[0m 2ms/step - loss: 0.0809 - mean_squared_error: 0.0809 - val_loss: 0.0610 - val_mean_squared_error: 0.0610\n",
            "Epoch 40/100\n",
            "\u001b[1m147/147\u001b[0m \u001b[32m━━━━━━━━━━━━━━━━━━━━\u001b[0m\u001b[37m\u001b[0m \u001b[1m1s\u001b[0m 2ms/step - loss: 0.0794 - mean_squared_error: 0.0794 - val_loss: 0.0598 - val_mean_squared_error: 0.0598\n",
            "Epoch 41/100\n",
            "\u001b[1m147/147\u001b[0m \u001b[32m━━━━━━━━━━━━━━━━━━━━\u001b[0m\u001b[37m\u001b[0m \u001b[1m1s\u001b[0m 3ms/step - loss: 0.0786 - mean_squared_error: 0.0786 - val_loss: 0.0491 - val_mean_squared_error: 0.0491\n",
            "Epoch 42/100\n",
            "\u001b[1m147/147\u001b[0m \u001b[32m━━━━━━━━━━━━━━━━━━━━\u001b[0m\u001b[37m\u001b[0m \u001b[1m1s\u001b[0m 2ms/step - loss: 0.0734 - mean_squared_error: 0.0734 - val_loss: 0.0486 - val_mean_squared_error: 0.0486\n",
            "Epoch 43/100\n",
            "\u001b[1m147/147\u001b[0m \u001b[32m━━━━━━━━━━━━━━━━━━━━\u001b[0m\u001b[37m\u001b[0m \u001b[1m1s\u001b[0m 2ms/step - loss: 0.0701 - mean_squared_error: 0.0701 - val_loss: 0.0518 - val_mean_squared_error: 0.0518\n",
            "Epoch 44/100\n",
            "\u001b[1m147/147\u001b[0m \u001b[32m━━━━━━━━━━━━━━━━━━━━\u001b[0m\u001b[37m\u001b[0m \u001b[1m0s\u001b[0m 2ms/step - loss: 0.0793 - mean_squared_error: 0.0793 - val_loss: 0.0474 - val_mean_squared_error: 0.0474\n",
            "Epoch 45/100\n",
            "\u001b[1m147/147\u001b[0m \u001b[32m━━━━━━━━━━━━━━━━━━━━\u001b[0m\u001b[37m\u001b[0m \u001b[1m1s\u001b[0m 2ms/step - loss: 0.0750 - mean_squared_error: 0.0750 - val_loss: 0.0570 - val_mean_squared_error: 0.0570\n",
            "Epoch 46/100\n",
            "\u001b[1m147/147\u001b[0m \u001b[32m━━━━━━━━━━━━━━━━━━━━\u001b[0m\u001b[37m\u001b[0m \u001b[1m0s\u001b[0m 2ms/step - loss: 0.0708 - mean_squared_error: 0.0708 - val_loss: 0.0733 - val_mean_squared_error: 0.0733\n",
            "Epoch 47/100\n",
            "\u001b[1m147/147\u001b[0m \u001b[32m━━━━━━━━━━━━━━━━━━━━\u001b[0m\u001b[37m\u001b[0m \u001b[1m1s\u001b[0m 2ms/step - loss: 0.0808 - mean_squared_error: 0.0808 - val_loss: 0.0704 - val_mean_squared_error: 0.0704\n",
            "Epoch 48/100\n",
            "\u001b[1m147/147\u001b[0m \u001b[32m━━━━━━━━━━━━━━━━━━━━\u001b[0m\u001b[37m\u001b[0m \u001b[1m1s\u001b[0m 2ms/step - loss: 0.0777 - mean_squared_error: 0.0777 - val_loss: 0.0524 - val_mean_squared_error: 0.0524\n",
            "Epoch 49/100\n",
            "\u001b[1m147/147\u001b[0m \u001b[32m━━━━━━━━━━━━━━━━━━━━\u001b[0m\u001b[37m\u001b[0m \u001b[1m1s\u001b[0m 2ms/step - loss: 0.0777 - mean_squared_error: 0.0777 - val_loss: 0.0552 - val_mean_squared_error: 0.0552\n",
            "Epoch 50/100\n",
            "\u001b[1m147/147\u001b[0m \u001b[32m━━━━━━━━━━━━━━━━━━━━\u001b[0m\u001b[37m\u001b[0m \u001b[1m1s\u001b[0m 3ms/step - loss: 0.0724 - mean_squared_error: 0.0724 - val_loss: 0.0515 - val_mean_squared_error: 0.0515\n",
            "Epoch 51/100\n",
            "\u001b[1m147/147\u001b[0m \u001b[32m━━━━━━━━━━━━━━━━━━━━\u001b[0m\u001b[37m\u001b[0m \u001b[1m1s\u001b[0m 2ms/step - loss: 0.0705 - mean_squared_error: 0.0705 - val_loss: 0.0617 - val_mean_squared_error: 0.0617\n",
            "Epoch 52/100\n",
            "\u001b[1m147/147\u001b[0m \u001b[32m━━━━━━━━━━━━━━━━━━━━\u001b[0m\u001b[37m\u001b[0m \u001b[1m0s\u001b[0m 2ms/step - loss: 0.0692 - mean_squared_error: 0.0692 - val_loss: 0.0521 - val_mean_squared_error: 0.0521\n",
            "Epoch 53/100\n",
            "\u001b[1m147/147\u001b[0m \u001b[32m━━━━━━━━━━━━━━━━━━━━\u001b[0m\u001b[37m\u001b[0m \u001b[1m1s\u001b[0m 2ms/step - loss: 0.0720 - mean_squared_error: 0.0720 - val_loss: 0.0512 - val_mean_squared_error: 0.0512\n",
            "Epoch 54/100\n",
            "\u001b[1m147/147\u001b[0m \u001b[32m━━━━━━━━━━━━━━━━━━━━\u001b[0m\u001b[37m\u001b[0m \u001b[1m0s\u001b[0m 2ms/step - loss: 0.0704 - mean_squared_error: 0.0704 - val_loss: 0.0519 - val_mean_squared_error: 0.0519\n",
            "Epoch 55/100\n",
            "\u001b[1m147/147\u001b[0m \u001b[32m━━━━━━━━━━━━━━━━━━━━\u001b[0m\u001b[37m\u001b[0m \u001b[1m0s\u001b[0m 2ms/step - loss: 0.0734 - mean_squared_error: 0.0734 - val_loss: 0.0481 - val_mean_squared_error: 0.0481\n",
            "Epoch 56/100\n",
            "\u001b[1m147/147\u001b[0m \u001b[32m━━━━━━━━━━━━━━━━━━━━\u001b[0m\u001b[37m\u001b[0m \u001b[1m1s\u001b[0m 4ms/step - loss: 0.0655 - mean_squared_error: 0.0655 - val_loss: 0.0462 - val_mean_squared_error: 0.0462\n",
            "Epoch 57/100\n",
            "\u001b[1m147/147\u001b[0m \u001b[32m━━━━━━━━━━━━━━━━━━━━\u001b[0m\u001b[37m\u001b[0m \u001b[1m1s\u001b[0m 4ms/step - loss: 0.0688 - mean_squared_error: 0.0688 - val_loss: 0.0532 - val_mean_squared_error: 0.0532\n",
            "Epoch 58/100\n",
            "\u001b[1m147/147\u001b[0m \u001b[32m━━━━━━━━━━━━━━━━━━━━\u001b[0m\u001b[37m\u001b[0m \u001b[1m1s\u001b[0m 4ms/step - loss: 0.0698 - mean_squared_error: 0.0698 - val_loss: 0.0512 - val_mean_squared_error: 0.0512\n",
            "Epoch 59/100\n",
            "\u001b[1m147/147\u001b[0m \u001b[32m━━━━━━━━━━━━━━━━━━━━\u001b[0m\u001b[37m\u001b[0m \u001b[1m1s\u001b[0m 4ms/step - loss: 0.0700 - mean_squared_error: 0.0700 - val_loss: 0.0481 - val_mean_squared_error: 0.0481\n",
            "Epoch 60/100\n",
            "\u001b[1m147/147\u001b[0m \u001b[32m━━━━━━━━━━━━━━━━━━━━\u001b[0m\u001b[37m\u001b[0m \u001b[1m1s\u001b[0m 5ms/step - loss: 0.0707 - mean_squared_error: 0.0707 - val_loss: 0.0468 - val_mean_squared_error: 0.0468\n",
            "Epoch 61/100\n",
            "\u001b[1m147/147\u001b[0m \u001b[32m━━━━━━━━━━━━━━━━━━━━\u001b[0m\u001b[37m\u001b[0m \u001b[1m1s\u001b[0m 3ms/step - loss: 0.0645 - mean_squared_error: 0.0645 - val_loss: 0.0532 - val_mean_squared_error: 0.0532\n",
            "Epoch 62/100\n",
            "\u001b[1m147/147\u001b[0m \u001b[32m━━━━━━━━━━━━━━━━━━━━\u001b[0m\u001b[37m\u001b[0m \u001b[1m1s\u001b[0m 2ms/step - loss: 0.0631 - mean_squared_error: 0.0631 - val_loss: 0.0484 - val_mean_squared_error: 0.0484\n",
            "Epoch 63/100\n",
            "\u001b[1m147/147\u001b[0m \u001b[32m━━━━━━━━━━━━━━━━━━━━\u001b[0m\u001b[37m\u001b[0m \u001b[1m1s\u001b[0m 2ms/step - loss: 0.0647 - mean_squared_error: 0.0647 - val_loss: 0.0480 - val_mean_squared_error: 0.0480\n",
            "Epoch 64/100\n",
            "\u001b[1m147/147\u001b[0m \u001b[32m━━━━━━━━━━━━━━━━━━━━\u001b[0m\u001b[37m\u001b[0m \u001b[1m1s\u001b[0m 2ms/step - loss: 0.0685 - mean_squared_error: 0.0685 - val_loss: 0.0565 - val_mean_squared_error: 0.0565\n",
            "Epoch 65/100\n",
            "\u001b[1m147/147\u001b[0m \u001b[32m━━━━━━━━━━━━━━━━━━━━\u001b[0m\u001b[37m\u001b[0m \u001b[1m1s\u001b[0m 2ms/step - loss: 0.0621 - mean_squared_error: 0.0621 - val_loss: 0.0471 - val_mean_squared_error: 0.0471\n",
            "Epoch 66/100\n",
            "\u001b[1m147/147\u001b[0m \u001b[32m━━━━━━━━━━━━━━━━━━━━\u001b[0m\u001b[37m\u001b[0m \u001b[1m1s\u001b[0m 3ms/step - loss: 0.0728 - mean_squared_error: 0.0728 - val_loss: 0.0493 - val_mean_squared_error: 0.0493\n",
            "Epoch 67/100\n",
            "\u001b[1m147/147\u001b[0m \u001b[32m━━━━━━━━━━━━━━━━━━━━\u001b[0m\u001b[37m\u001b[0m \u001b[1m1s\u001b[0m 2ms/step - loss: 0.0690 - mean_squared_error: 0.0690 - val_loss: 0.0605 - val_mean_squared_error: 0.0605\n",
            "Epoch 68/100\n",
            "\u001b[1m147/147\u001b[0m \u001b[32m━━━━━━━━━━━━━━━━━━━━\u001b[0m\u001b[37m\u001b[0m \u001b[1m1s\u001b[0m 3ms/step - loss: 0.0703 - mean_squared_error: 0.0703 - val_loss: 0.0549 - val_mean_squared_error: 0.0549\n",
            "Epoch 69/100\n",
            "\u001b[1m147/147\u001b[0m \u001b[32m━━━━━━━━━━━━━━━━━━━━\u001b[0m\u001b[37m\u001b[0m \u001b[1m1s\u001b[0m 3ms/step - loss: 0.0655 - mean_squared_error: 0.0655 - val_loss: 0.0512 - val_mean_squared_error: 0.0512\n",
            "Epoch 70/100\n",
            "\u001b[1m147/147\u001b[0m \u001b[32m━━━━━━━━━━━━━━━━━━━━\u001b[0m\u001b[37m\u001b[0m \u001b[1m1s\u001b[0m 3ms/step - loss: 0.0603 - mean_squared_error: 0.0603 - val_loss: 0.0536 - val_mean_squared_error: 0.0536\n",
            "Epoch 71/100\n",
            "\u001b[1m147/147\u001b[0m \u001b[32m━━━━━━━━━━━━━━━━━━━━\u001b[0m\u001b[37m\u001b[0m \u001b[1m1s\u001b[0m 2ms/step - loss: 0.0650 - mean_squared_error: 0.0650 - val_loss: 0.0481 - val_mean_squared_error: 0.0481\n",
            "Epoch 72/100\n",
            "\u001b[1m147/147\u001b[0m \u001b[32m━━━━━━━━━━━━━━━━━━━━\u001b[0m\u001b[37m\u001b[0m \u001b[1m0s\u001b[0m 2ms/step - loss: 0.0666 - mean_squared_error: 0.0666 - val_loss: 0.0538 - val_mean_squared_error: 0.0538\n",
            "Epoch 73/100\n",
            "\u001b[1m147/147\u001b[0m \u001b[32m━━━━━━━━━━━━━━━━━━━━\u001b[0m\u001b[37m\u001b[0m \u001b[1m1s\u001b[0m 2ms/step - loss: 0.0659 - mean_squared_error: 0.0659 - val_loss: 0.0497 - val_mean_squared_error: 0.0497\n",
            "Epoch 74/100\n",
            "\u001b[1m147/147\u001b[0m \u001b[32m━━━━━━━━━━━━━━━━━━━━\u001b[0m\u001b[37m\u001b[0m \u001b[1m0s\u001b[0m 3ms/step - loss: 0.0618 - mean_squared_error: 0.0618 - val_loss: 0.0569 - val_mean_squared_error: 0.0569\n",
            "Epoch 75/100\n",
            "\u001b[1m147/147\u001b[0m \u001b[32m━━━━━━━━━━━━━━━━━━━━\u001b[0m\u001b[37m\u001b[0m \u001b[1m1s\u001b[0m 3ms/step - loss: 0.0634 - mean_squared_error: 0.0634 - val_loss: 0.0449 - val_mean_squared_error: 0.0449\n",
            "Epoch 76/100\n",
            "\u001b[1m147/147\u001b[0m \u001b[32m━━━━━━━━━━━━━━━━━━━━\u001b[0m\u001b[37m\u001b[0m \u001b[1m0s\u001b[0m 2ms/step - loss: 0.0587 - mean_squared_error: 0.0587 - val_loss: 0.0445 - val_mean_squared_error: 0.0445\n",
            "Epoch 77/100\n",
            "\u001b[1m147/147\u001b[0m \u001b[32m━━━━━━━━━━━━━━━━━━━━\u001b[0m\u001b[37m\u001b[0m \u001b[1m0s\u001b[0m 3ms/step - loss: 0.0638 - mean_squared_error: 0.0638 - val_loss: 0.0487 - val_mean_squared_error: 0.0487\n",
            "Epoch 78/100\n",
            "\u001b[1m147/147\u001b[0m \u001b[32m━━━━━━━━━━━━━━━━━━━━\u001b[0m\u001b[37m\u001b[0m \u001b[1m1s\u001b[0m 2ms/step - loss: 0.0687 - mean_squared_error: 0.0687 - val_loss: 0.0590 - val_mean_squared_error: 0.0590\n",
            "Epoch 79/100\n",
            "\u001b[1m147/147\u001b[0m \u001b[32m━━━━━━━━━━━━━━━━━━━━\u001b[0m\u001b[37m\u001b[0m \u001b[1m1s\u001b[0m 4ms/step - loss: 0.0677 - mean_squared_error: 0.0677 - val_loss: 0.0542 - val_mean_squared_error: 0.0542\n",
            "Epoch 80/100\n",
            "\u001b[1m147/147\u001b[0m \u001b[32m━━━━━━━━━━━━━━━━━━━━\u001b[0m\u001b[37m\u001b[0m \u001b[1m1s\u001b[0m 3ms/step - loss: 0.0612 - mean_squared_error: 0.0612 - val_loss: 0.0538 - val_mean_squared_error: 0.0538\n",
            "Epoch 81/100\n",
            "\u001b[1m147/147\u001b[0m \u001b[32m━━━━━━━━━━━━━━━━━━━━\u001b[0m\u001b[37m\u001b[0m \u001b[1m1s\u001b[0m 4ms/step - loss: 0.0630 - mean_squared_error: 0.0630 - val_loss: 0.0498 - val_mean_squared_error: 0.0498\n",
            "Epoch 82/100\n",
            "\u001b[1m147/147\u001b[0m \u001b[32m━━━━━━━━━━━━━━━━━━━━\u001b[0m\u001b[37m\u001b[0m \u001b[1m1s\u001b[0m 4ms/step - loss: 0.0584 - mean_squared_error: 0.0584 - val_loss: 0.0509 - val_mean_squared_error: 0.0509\n",
            "Epoch 83/100\n",
            "\u001b[1m147/147\u001b[0m \u001b[32m━━━━━━━━━━━━━━━━━━━━\u001b[0m\u001b[37m\u001b[0m \u001b[1m1s\u001b[0m 5ms/step - loss: 0.0603 - mean_squared_error: 0.0603 - val_loss: 0.0525 - val_mean_squared_error: 0.0525\n",
            "Epoch 84/100\n",
            "\u001b[1m147/147\u001b[0m \u001b[32m━━━━━━━━━━━━━━━━━━━━\u001b[0m\u001b[37m\u001b[0m \u001b[1m1s\u001b[0m 2ms/step - loss: 0.0658 - mean_squared_error: 0.0658 - val_loss: 0.0443 - val_mean_squared_error: 0.0443\n",
            "Epoch 85/100\n",
            "\u001b[1m147/147\u001b[0m \u001b[32m━━━━━━━━━━━━━━━━━━━━\u001b[0m\u001b[37m\u001b[0m \u001b[1m1s\u001b[0m 3ms/step - loss: 0.0604 - mean_squared_error: 0.0604 - val_loss: 0.0564 - val_mean_squared_error: 0.0564\n",
            "Epoch 86/100\n",
            "\u001b[1m147/147\u001b[0m \u001b[32m━━━━━━━━━━━━━━━━━━━━\u001b[0m\u001b[37m\u001b[0m \u001b[1m0s\u001b[0m 3ms/step - loss: 0.0620 - mean_squared_error: 0.0620 - val_loss: 0.0441 - val_mean_squared_error: 0.0441\n",
            "Epoch 87/100\n",
            "\u001b[1m147/147\u001b[0m \u001b[32m━━━━━━━━━━━━━━━━━━━━\u001b[0m\u001b[37m\u001b[0m \u001b[1m1s\u001b[0m 3ms/step - loss: 0.0564 - mean_squared_error: 0.0564 - val_loss: 0.0485 - val_mean_squared_error: 0.0485\n",
            "Epoch 88/100\n",
            "\u001b[1m147/147\u001b[0m \u001b[32m━━━━━━━━━━━━━━━━━━━━\u001b[0m\u001b[37m\u001b[0m \u001b[1m1s\u001b[0m 2ms/step - loss: 0.0640 - mean_squared_error: 0.0640 - val_loss: 0.0448 - val_mean_squared_error: 0.0448\n",
            "Epoch 89/100\n",
            "\u001b[1m147/147\u001b[0m \u001b[32m━━━━━━━━━━━━━━━━━━━━\u001b[0m\u001b[37m\u001b[0m \u001b[1m0s\u001b[0m 3ms/step - loss: 0.0545 - mean_squared_error: 0.0545 - val_loss: 0.0472 - val_mean_squared_error: 0.0472\n",
            "Epoch 90/100\n",
            "\u001b[1m147/147\u001b[0m \u001b[32m━━━━━━━━━━━━━━━━━━━━\u001b[0m\u001b[37m\u001b[0m \u001b[1m0s\u001b[0m 2ms/step - loss: 0.0619 - mean_squared_error: 0.0619 - val_loss: 0.0496 - val_mean_squared_error: 0.0496\n",
            "Epoch 91/100\n",
            "\u001b[1m147/147\u001b[0m \u001b[32m━━━━━━━━━━━━━━━━━━━━\u001b[0m\u001b[37m\u001b[0m \u001b[1m0s\u001b[0m 2ms/step - loss: 0.0651 - mean_squared_error: 0.0651 - val_loss: 0.0490 - val_mean_squared_error: 0.0490\n",
            "Epoch 92/100\n",
            "\u001b[1m147/147\u001b[0m \u001b[32m━━━━━━━━━━━━━━━━━━━━\u001b[0m\u001b[37m\u001b[0m \u001b[1m1s\u001b[0m 2ms/step - loss: 0.0614 - mean_squared_error: 0.0614 - val_loss: 0.0463 - val_mean_squared_error: 0.0463\n",
            "Epoch 93/100\n",
            "\u001b[1m147/147\u001b[0m \u001b[32m━━━━━━━━━━━━━━━━━━━━\u001b[0m\u001b[37m\u001b[0m \u001b[1m1s\u001b[0m 3ms/step - loss: 0.0598 - mean_squared_error: 0.0598 - val_loss: 0.0452 - val_mean_squared_error: 0.0452\n",
            "Epoch 94/100\n",
            "\u001b[1m147/147\u001b[0m \u001b[32m━━━━━━━━━━━━━━━━━━━━\u001b[0m\u001b[37m\u001b[0m \u001b[1m0s\u001b[0m 2ms/step - loss: 0.0551 - mean_squared_error: 0.0551 - val_loss: 0.0628 - val_mean_squared_error: 0.0628\n",
            "Epoch 95/100\n",
            "\u001b[1m147/147\u001b[0m \u001b[32m━━━━━━━━━━━━━━━━━━━━\u001b[0m\u001b[37m\u001b[0m \u001b[1m1s\u001b[0m 4ms/step - loss: 0.0605 - mean_squared_error: 0.0605 - val_loss: 0.0463 - val_mean_squared_error: 0.0463\n",
            "Epoch 96/100\n",
            "\u001b[1m147/147\u001b[0m \u001b[32m━━━━━━━━━━━━━━━━━━━━\u001b[0m\u001b[37m\u001b[0m \u001b[1m0s\u001b[0m 3ms/step - loss: 0.0584 - mean_squared_error: 0.0584 - val_loss: 0.0539 - val_mean_squared_error: 0.0539\n",
            "Epoch 97/100\n",
            "\u001b[1m147/147\u001b[0m \u001b[32m━━━━━━━━━━━━━━━━━━━━\u001b[0m\u001b[37m\u001b[0m \u001b[1m1s\u001b[0m 2ms/step - loss: 0.0627 - mean_squared_error: 0.0627 - val_loss: 0.0482 - val_mean_squared_error: 0.0482\n",
            "Epoch 98/100\n",
            "\u001b[1m147/147\u001b[0m \u001b[32m━━━━━━━━━━━━━━━━━━━━\u001b[0m\u001b[37m\u001b[0m \u001b[1m0s\u001b[0m 2ms/step - loss: 0.0612 - mean_squared_error: 0.0612 - val_loss: 0.0430 - val_mean_squared_error: 0.0430\n",
            "Epoch 99/100\n",
            "\u001b[1m147/147\u001b[0m \u001b[32m━━━━━━━━━━━━━━━━━━━━\u001b[0m\u001b[37m\u001b[0m \u001b[1m1s\u001b[0m 2ms/step - loss: 0.0561 - mean_squared_error: 0.0561 - val_loss: 0.0506 - val_mean_squared_error: 0.0506\n",
            "Epoch 100/100\n",
            "\u001b[1m147/147\u001b[0m \u001b[32m━━━━━━━━━━━━━━━━━━━━\u001b[0m\u001b[37m\u001b[0m \u001b[1m0s\u001b[0m 2ms/step - loss: 0.0607 - mean_squared_error: 0.0607 - val_loss: 0.0519 - val_mean_squared_error: 0.0519\n",
            "\u001b[1m19/19\u001b[0m \u001b[32m━━━━━━━━━━━━━━━━━━━━\u001b[0m\u001b[37m\u001b[0m \u001b[1m0s\u001b[0m 3ms/step\n",
            "Test MSE : 0.0519\n"
          ]
        }
      ]
    },
    {
      "cell_type": "markdown",
      "source": [
        "### Visualisation des courbes d’apprentissage"
      ],
      "metadata": {
        "id": "qCydbsbr_M0C"
      }
    },
    {
      "cell_type": "code",
      "source": [
        "plt.figure(figsize=(12, 6))\n",
        "plt.plot(history.history['loss'], label='Entraînement')\n",
        "plt.plot(history.history['val_loss'], label='Validation')\n",
        "plt.xlabel('Époques')\n",
        "plt.ylabel('Perte (MSE)')\n",
        "plt.title(\"Perte d'entraînement et de validation\")\n",
        "plt.legend()\n",
        "plt.show()\n"
      ],
      "metadata": {
        "colab": {
          "base_uri": "https://localhost:8080/",
          "height": 566
        },
        "id": "KA4ubD4xQkd-",
        "outputId": "37eafa16-ccd5-4103-a4e2-f04fc6c003ff"
      },
      "execution_count": null,
      "outputs": [
        {
          "output_type": "display_data",
          "data": {
            "text/plain": [
              "<Figure size 1200x600 with 1 Axes>"
            ],
            "image/png": "[encoded data removed]"
          },
          "metadata": {}
        }
      ]
    },
    {
      "cell_type": "markdown",
      "source": [
        "* Perte d'entraînement (ligne bleue) :\n",
        "Diminue régulièrement au fil des époques.\n",
        "Cette tendance montre que le modèle apprend efficacement sur les données d'entraînement.\n",
        "* Perte de validation (ligne orange) :\n",
        "Diminue également et reste légèrement en dessous de la perte d'entraînement, ce qui indique que le modèle généralise bien sans signes clairs de sur-apprentissage (overfitting)."
      ],
      "metadata": {
        "id": "OO5kWdAW_Vfy"
      }
    }
  ]
}